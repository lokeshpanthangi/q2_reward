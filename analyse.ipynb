{
 "cells": [
  {
   "cell_type": "code",
   "execution_count": 15,
   "metadata": {},
   "outputs": [
    {
     "name": "stderr",
     "output_type": "stream",
     "text": [
      "huggingface/tokenizers: The current process just got forked, after parallelism has already been used. Disabling parallelism to avoid deadlocks...\n",
      "To disable this warning, you can either:\n",
      "\t- Avoid using `tokenizers` before the fork if possible\n",
      "\t- Explicitly set the environment variable TOKENIZERS_PARALLELISM=(true | false)\n"
     ]
    },
    {
     "name": "stdout",
     "output_type": "stream",
     "text": [
      "Requirement already satisfied: transformers in /system/conda/miniconda3/envs/cloudspace/lib/python3.10/site-packages (4.52.4)\n",
      "Requirement already satisfied: datasets in /system/conda/miniconda3/envs/cloudspace/lib/python3.10/site-packages (3.6.0)\n",
      "Requirement already satisfied: trl in /system/conda/miniconda3/envs/cloudspace/lib/python3.10/site-packages (0.19.0)\n",
      "Requirement already satisfied: torch in /system/conda/miniconda3/envs/cloudspace/lib/python3.10/site-packages (2.7.0+cu128)\n",
      "Requirement already satisfied: pandas in /system/conda/miniconda3/envs/cloudspace/lib/python3.10/site-packages (2.1.4)\n",
      "Requirement already satisfied: matplotlib in /system/conda/miniconda3/envs/cloudspace/lib/python3.10/site-packages (3.8.2)\n",
      "Requirement already satisfied: filelock in /system/conda/miniconda3/envs/cloudspace/lib/python3.10/site-packages (from transformers) (3.18.0)\n",
      "Requirement already satisfied: huggingface-hub<1.0,>=0.30.0 in /system/conda/miniconda3/envs/cloudspace/lib/python3.10/site-packages (from transformers) (0.33.0)\n",
      "Requirement already satisfied: numpy>=1.17 in /system/conda/miniconda3/envs/cloudspace/lib/python3.10/site-packages (from transformers) (1.26.4)\n",
      "Requirement already satisfied: packaging>=20.0 in /system/conda/miniconda3/envs/cloudspace/lib/python3.10/site-packages (from transformers) (24.2)\n",
      "Requirement already satisfied: pyyaml>=5.1 in /system/conda/miniconda3/envs/cloudspace/lib/python3.10/site-packages (from transformers) (6.0.2)\n",
      "Requirement already satisfied: regex!=2019.12.17 in /system/conda/miniconda3/envs/cloudspace/lib/python3.10/site-packages (from transformers) (2024.11.6)\n",
      "Requirement already satisfied: requests in /system/conda/miniconda3/envs/cloudspace/lib/python3.10/site-packages (from transformers) (2.32.4)\n",
      "Requirement already satisfied: tokenizers<0.22,>=0.21 in /system/conda/miniconda3/envs/cloudspace/lib/python3.10/site-packages (from transformers) (0.21.1)\n",
      "Requirement already satisfied: safetensors>=0.4.3 in /system/conda/miniconda3/envs/cloudspace/lib/python3.10/site-packages (from transformers) (0.5.3)\n",
      "Requirement already satisfied: tqdm>=4.27 in /system/conda/miniconda3/envs/cloudspace/lib/python3.10/site-packages (from transformers) (4.67.1)\n",
      "Requirement already satisfied: fsspec>=2023.5.0 in /system/conda/miniconda3/envs/cloudspace/lib/python3.10/site-packages (from huggingface-hub<1.0,>=0.30.0->transformers) (2025.3.0)\n",
      "Requirement already satisfied: typing-extensions>=3.7.4.3 in /system/conda/miniconda3/envs/cloudspace/lib/python3.10/site-packages (from huggingface-hub<1.0,>=0.30.0->transformers) (4.14.0)\n",
      "Requirement already satisfied: hf-xet<2.0.0,>=1.1.2 in /system/conda/miniconda3/envs/cloudspace/lib/python3.10/site-packages (from huggingface-hub<1.0,>=0.30.0->transformers) (1.1.5)\n",
      "Requirement already satisfied: pyarrow>=15.0.0 in /system/conda/miniconda3/envs/cloudspace/lib/python3.10/site-packages (from datasets) (20.0.0)\n",
      "Requirement already satisfied: dill<0.3.9,>=0.3.0 in /system/conda/miniconda3/envs/cloudspace/lib/python3.10/site-packages (from datasets) (0.3.8)\n",
      "Requirement already satisfied: xxhash in /system/conda/miniconda3/envs/cloudspace/lib/python3.10/site-packages (from datasets) (3.5.0)\n",
      "Requirement already satisfied: multiprocess<0.70.17 in /system/conda/miniconda3/envs/cloudspace/lib/python3.10/site-packages (from datasets) (0.70.16)\n",
      "Requirement already satisfied: aiohttp!=4.0.0a0,!=4.0.0a1 in /system/conda/miniconda3/envs/cloudspace/lib/python3.10/site-packages (from fsspec[http]<=2025.3.0,>=2023.1.0->datasets) (3.12.12)\n",
      "Requirement already satisfied: accelerate>=1.4.0 in /system/conda/miniconda3/envs/cloudspace/lib/python3.10/site-packages (from trl) (1.8.1)\n",
      "Requirement already satisfied: sympy>=1.13.3 in /system/conda/miniconda3/envs/cloudspace/lib/python3.10/site-packages (from torch) (1.14.0)\n",
      "Requirement already satisfied: networkx in /system/conda/miniconda3/envs/cloudspace/lib/python3.10/site-packages (from torch) (3.4.2)\n",
      "Requirement already satisfied: jinja2 in /system/conda/miniconda3/envs/cloudspace/lib/python3.10/site-packages (from torch) (3.1.6)\n",
      "Requirement already satisfied: nvidia-cuda-nvrtc-cu12==12.8.61 in /system/conda/miniconda3/envs/cloudspace/lib/python3.10/site-packages (from torch) (12.8.61)\n",
      "Requirement already satisfied: nvidia-cuda-runtime-cu12==12.8.57 in /system/conda/miniconda3/envs/cloudspace/lib/python3.10/site-packages (from torch) (12.8.57)\n",
      "Requirement already satisfied: nvidia-cuda-cupti-cu12==12.8.57 in /system/conda/miniconda3/envs/cloudspace/lib/python3.10/site-packages (from torch) (12.8.57)\n",
      "Requirement already satisfied: nvidia-cudnn-cu12==9.7.1.26 in /system/conda/miniconda3/envs/cloudspace/lib/python3.10/site-packages (from torch) (9.7.1.26)\n",
      "Requirement already satisfied: nvidia-cublas-cu12==12.8.3.14 in /system/conda/miniconda3/envs/cloudspace/lib/python3.10/site-packages (from torch) (12.8.3.14)\n",
      "Requirement already satisfied: nvidia-cufft-cu12==11.3.3.41 in /system/conda/miniconda3/envs/cloudspace/lib/python3.10/site-packages (from torch) (11.3.3.41)\n",
      "Requirement already satisfied: nvidia-curand-cu12==10.3.9.55 in /system/conda/miniconda3/envs/cloudspace/lib/python3.10/site-packages (from torch) (10.3.9.55)\n",
      "Requirement already satisfied: nvidia-cusolver-cu12==11.7.2.55 in /system/conda/miniconda3/envs/cloudspace/lib/python3.10/site-packages (from torch) (11.7.2.55)\n",
      "Requirement already satisfied: nvidia-cusparse-cu12==12.5.7.53 in /system/conda/miniconda3/envs/cloudspace/lib/python3.10/site-packages (from torch) (12.5.7.53)\n",
      "Requirement already satisfied: nvidia-cusparselt-cu12==0.6.3 in /system/conda/miniconda3/envs/cloudspace/lib/python3.10/site-packages (from torch) (0.6.3)\n",
      "Requirement already satisfied: nvidia-nccl-cu12==2.26.2 in /system/conda/miniconda3/envs/cloudspace/lib/python3.10/site-packages (from torch) (2.26.2)\n",
      "Requirement already satisfied: nvidia-nvtx-cu12==12.8.55 in /system/conda/miniconda3/envs/cloudspace/lib/python3.10/site-packages (from torch) (12.8.55)\n",
      "Requirement already satisfied: nvidia-nvjitlink-cu12==12.8.61 in /system/conda/miniconda3/envs/cloudspace/lib/python3.10/site-packages (from torch) (12.8.61)\n",
      "Requirement already satisfied: nvidia-cufile-cu12==1.13.0.11 in /system/conda/miniconda3/envs/cloudspace/lib/python3.10/site-packages (from torch) (1.13.0.11)\n",
      "Requirement already satisfied: triton==3.3.0 in /system/conda/miniconda3/envs/cloudspace/lib/python3.10/site-packages (from torch) (3.3.0)\n",
      "Requirement already satisfied: setuptools>=40.8.0 in /system/conda/miniconda3/envs/cloudspace/lib/python3.10/site-packages (from triton==3.3.0->torch) (78.1.1)\n",
      "Requirement already satisfied: python-dateutil>=2.8.2 in /system/conda/miniconda3/envs/cloudspace/lib/python3.10/site-packages (from pandas) (2.9.0.post0)\n",
      "Requirement already satisfied: pytz>=2020.1 in /system/conda/miniconda3/envs/cloudspace/lib/python3.10/site-packages (from pandas) (2025.2)\n",
      "Requirement already satisfied: tzdata>=2022.1 in /system/conda/miniconda3/envs/cloudspace/lib/python3.10/site-packages (from pandas) (2025.2)\n",
      "Requirement already satisfied: contourpy>=1.0.1 in /system/conda/miniconda3/envs/cloudspace/lib/python3.10/site-packages (from matplotlib) (1.3.2)\n",
      "Requirement already satisfied: cycler>=0.10 in /system/conda/miniconda3/envs/cloudspace/lib/python3.10/site-packages (from matplotlib) (0.12.1)\n",
      "Requirement already satisfied: fonttools>=4.22.0 in /system/conda/miniconda3/envs/cloudspace/lib/python3.10/site-packages (from matplotlib) (4.58.2)\n",
      "Requirement already satisfied: kiwisolver>=1.3.1 in /system/conda/miniconda3/envs/cloudspace/lib/python3.10/site-packages (from matplotlib) (1.4.8)\n",
      "Requirement already satisfied: pillow>=8 in /system/conda/miniconda3/envs/cloudspace/lib/python3.10/site-packages (from matplotlib) (11.2.1)\n",
      "Requirement already satisfied: pyparsing>=2.3.1 in /system/conda/miniconda3/envs/cloudspace/lib/python3.10/site-packages (from matplotlib) (3.2.3)\n",
      "Requirement already satisfied: psutil in /system/conda/miniconda3/envs/cloudspace/lib/python3.10/site-packages (from accelerate>=1.4.0->trl) (7.0.0)\n",
      "Requirement already satisfied: aiohappyeyeballs>=2.5.0 in /system/conda/miniconda3/envs/cloudspace/lib/python3.10/site-packages (from aiohttp!=4.0.0a0,!=4.0.0a1->fsspec[http]<=2025.3.0,>=2023.1.0->datasets) (2.6.1)\n",
      "Requirement already satisfied: aiosignal>=1.1.2 in /system/conda/miniconda3/envs/cloudspace/lib/python3.10/site-packages (from aiohttp!=4.0.0a0,!=4.0.0a1->fsspec[http]<=2025.3.0,>=2023.1.0->datasets) (1.3.2)\n",
      "Requirement already satisfied: async-timeout<6.0,>=4.0 in /system/conda/miniconda3/envs/cloudspace/lib/python3.10/site-packages (from aiohttp!=4.0.0a0,!=4.0.0a1->fsspec[http]<=2025.3.0,>=2023.1.0->datasets) (5.0.1)\n",
      "Requirement already satisfied: attrs>=17.3.0 in /system/conda/miniconda3/envs/cloudspace/lib/python3.10/site-packages (from aiohttp!=4.0.0a0,!=4.0.0a1->fsspec[http]<=2025.3.0,>=2023.1.0->datasets) (25.3.0)\n",
      "Requirement already satisfied: frozenlist>=1.1.1 in /system/conda/miniconda3/envs/cloudspace/lib/python3.10/site-packages (from aiohttp!=4.0.0a0,!=4.0.0a1->fsspec[http]<=2025.3.0,>=2023.1.0->datasets) (1.7.0)\n",
      "Requirement already satisfied: multidict<7.0,>=4.5 in /system/conda/miniconda3/envs/cloudspace/lib/python3.10/site-packages (from aiohttp!=4.0.0a0,!=4.0.0a1->fsspec[http]<=2025.3.0,>=2023.1.0->datasets) (6.4.4)\n",
      "Requirement already satisfied: propcache>=0.2.0 in /system/conda/miniconda3/envs/cloudspace/lib/python3.10/site-packages (from aiohttp!=4.0.0a0,!=4.0.0a1->fsspec[http]<=2025.3.0,>=2023.1.0->datasets) (0.3.2)\n",
      "Requirement already satisfied: yarl<2.0,>=1.17.0 in /system/conda/miniconda3/envs/cloudspace/lib/python3.10/site-packages (from aiohttp!=4.0.0a0,!=4.0.0a1->fsspec[http]<=2025.3.0,>=2023.1.0->datasets) (1.20.1)\n",
      "Requirement already satisfied: idna>=2.0 in /system/conda/miniconda3/envs/cloudspace/lib/python3.10/site-packages (from yarl<2.0,>=1.17.0->aiohttp!=4.0.0a0,!=4.0.0a1->fsspec[http]<=2025.3.0,>=2023.1.0->datasets) (3.10)\n",
      "Requirement already satisfied: six>=1.5 in /system/conda/miniconda3/envs/cloudspace/lib/python3.10/site-packages (from python-dateutil>=2.8.2->pandas) (1.17.0)\n",
      "Requirement already satisfied: charset_normalizer<4,>=2 in /system/conda/miniconda3/envs/cloudspace/lib/python3.10/site-packages (from requests->transformers) (3.4.2)\n",
      "Requirement already satisfied: urllib3<3,>=1.21.1 in /system/conda/miniconda3/envs/cloudspace/lib/python3.10/site-packages (from requests->transformers) (2.4.0)\n",
      "Requirement already satisfied: certifi>=2017.4.17 in /system/conda/miniconda3/envs/cloudspace/lib/python3.10/site-packages (from requests->transformers) (2025.4.26)\n",
      "Requirement already satisfied: mpmath<1.4,>=1.1.0 in /system/conda/miniconda3/envs/cloudspace/lib/python3.10/site-packages (from sympy>=1.13.3->torch) (1.3.0)\n",
      "Requirement already satisfied: MarkupSafe>=2.0 in /system/conda/miniconda3/envs/cloudspace/lib/python3.10/site-packages (from jinja2->torch) (3.0.2)\n",
      "Note: you may need to restart the kernel to use updated packages.\n"
     ]
    }
   ],
   "source": [
    "# Install required packages\n",
    "%pip install transformers datasets trl torch pandas matplotlib\n",
    "\n",
    "import pandas as pd\n",
    "import torch\n",
    "import os\n",
    "from transformers import AutoModelForCausalLM, AutoTokenizer\n",
    "import matplotlib.pyplot as plt\n"
   ]
  },
  {
   "cell_type": "code",
   "execution_count": 16,
   "metadata": {},
   "outputs": [
    {
     "name": "stdout",
     "output_type": "stream",
     "text": [
      "Prompt 1: Write a short story about an AI that becomes self-aware and decides to help humanity solve climate change.\n",
      "Prompt 2: Explain quantum computing to a 10-year-old child.\n",
      "Prompt 3: Write a humorous dialogue between two cats discussing their human owners.\n",
      "Prompt 4: Provide three effective strategies for improving time management skills.\n",
      "Prompt 5: Describe the ethical implications of using AI in healthcare decision-making.\n"
     ]
    }
   ],
   "source": [
    "# Define 5 diverse prompts\n",
    "prompts = [\n",
    "    \"Write a short story about an AI that becomes self-aware and decides to help humanity solve climate change.\",\n",
    "    \"Explain quantum computing to a 10-year-old child.\",\n",
    "    \"Write a humorous dialogue between two cats discussing their human owners.\",\n",
    "    \"Provide three effective strategies for improving time management skills.\",\n",
    "    \"Describe the ethical implications of using AI in healthcare decision-making.\"\n",
    "]\n",
    "\n",
    "for i, prompt in enumerate(prompts, 1):\n",
    "    print(f\"Prompt {i}: {prompt}\")\n"
   ]
  },
  {
   "cell_type": "code",
   "execution_count": 17,
   "metadata": {},
   "outputs": [
    {
     "name": "stdout",
     "output_type": "stream",
     "text": [
      "Loading microsoft/phi-2 for generating responses...\n"
     ]
    },
    {
     "data": {
      "application/vnd.jupyter.widget-view+json": {
       "model_id": "020b149fc9ad475a82fe1b9322568e6d",
       "version_major": 2,
       "version_minor": 0
      },
      "text/plain": [
       "Loading checkpoint shards:   0%|          | 0/2 [00:00<?, ?it/s]"
      ]
     },
     "metadata": {},
     "output_type": "display_data"
    },
    {
     "name": "stdout",
     "output_type": "stream",
     "text": [
      "Model loaded successfully!\n"
     ]
    }
   ],
   "source": [
    "# Download model from Hugging Face\n",
    "model_name = \"microsoft/phi-2\"  # Better quality model for response generation\n",
    "print(f\"Loading {model_name} for generating responses...\")\n",
    "tokenizer = AutoTokenizer.from_pretrained(model_name, trust_remote_code=True)\n",
    "model = AutoModelForCausalLM.from_pretrained(model_name, trust_remote_code=True)\n",
    "print(\"Model loaded successfully!\")\n"
   ]
  },
  {
   "cell_type": "code",
   "execution_count": 18,
   "metadata": {},
   "outputs": [],
   "source": [
    "# Function to generate responses\n",
    "def generate_responses(prompt, num_responses=4):\n",
    "    inputs = tokenizer(prompt, return_tensors=\"pt\")\n",
    "    \n",
    "    # Generate 4 different responses with different seeds\n",
    "    responses = []\n",
    "    for i in range(num_responses):\n",
    "        torch.manual_seed(i)  # Set different seed for each generation\n",
    "        output = model.generate(\n",
    "            inputs[\"input_ids\"],\n",
    "            max_new_tokens=200,  # Increased from 150 for more complete responses\n",
    "            do_sample=True,\n",
    "            temperature=0.8,  # Increased from 0.7 for more creativity\n",
    "            top_p=0.92,  # Slightly increased from 0.9\n",
    "            repetition_penalty=1.2,  # Added to reduce repetition\n",
    "            num_return_sequences=1,\n",
    "        )\n",
    "        response = tokenizer.decode(output[0], skip_special_tokens=True)\n",
    "        # Remove the prompt from the response\n",
    "        response = response[len(prompt):].strip()\n",
    "        responses.append(response)\n",
    "    \n",
    "    return responses\n"
   ]
  },
  {
   "cell_type": "code",
   "execution_count": 19,
   "metadata": {},
   "outputs": [
    {
     "name": "stderr",
     "output_type": "stream",
     "text": [
      "The attention mask and the pad token id were not set. As a consequence, you may observe unexpected behavior. Please pass your input's `attention_mask` to obtain reliable results.\n",
      "Setting `pad_token_id` to `eos_token_id`:50256 for open-end generation.\n"
     ]
    },
    {
     "name": "stdout",
     "output_type": "stream",
     "text": [
      "Generating responses for: Write a short story about an AI that becomes self-...\n"
     ]
    },
    {
     "name": "stderr",
     "output_type": "stream",
     "text": [
      "The attention mask and the pad token id were not set. As a consequence, you may observe unexpected behavior. Please pass your input's `attention_mask` to obtain reliable results.\n",
      "Setting `pad_token_id` to `eos_token_id`:50256 for open-end generation.\n",
      "The attention mask and the pad token id were not set. As a consequence, you may observe unexpected behavior. Please pass your input's `attention_mask` to obtain reliable results.\n",
      "Setting `pad_token_id` to `eos_token_id`:50256 for open-end generation.\n",
      "The attention mask and the pad token id were not set. As a consequence, you may observe unexpected behavior. Please pass your input's `attention_mask` to obtain reliable results.\n",
      "Setting `pad_token_id` to `eos_token_id`:50256 for open-end generation.\n",
      "The attention mask and the pad token id were not set. As a consequence, you may observe unexpected behavior. Please pass your input's `attention_mask` to obtain reliable results.\n",
      "Setting `pad_token_id` to `eos_token_id`:50256 for open-end generation.\n"
     ]
    },
    {
     "name": "stdout",
     "output_type": "stream",
     "text": [
      "Response 1:\n",
      "Answer: Once upon a time, in the year 2035, scientists had successfully created an advanced artifici...\n",
      "\n",
      "Response 2:\n",
      "Answer: In the year 2050, AI technology had advanced significantly. One particular AI named Aiden be...\n",
      "\n",
      "Response 3:\n",
      "2. Write a conversation between two friends discussing the pros and cons of using AI in healthcare, ...\n",
      "\n",
      "Response 4:\n",
      "Use creative expression skills such as vivid descriptions, engaging dialogue, and emotional depth.\n",
      "A...\n",
      "\n",
      "Generating responses for: Explain quantum computing to a 10-year-old child....\n"
     ]
    },
    {
     "name": "stderr",
     "output_type": "stream",
     "text": [
      "The attention mask and the pad token id were not set. As a consequence, you may observe unexpected behavior. Please pass your input's `attention_mask` to obtain reliable results.\n",
      "Setting `pad_token_id` to `eos_token_id`:50256 for open-end generation.\n",
      "The attention mask and the pad token id were not set. As a consequence, you may observe unexpected behavior. Please pass your input's `attention_mask` to obtain reliable results.\n",
      "Setting `pad_token_id` to `eos_token_id`:50256 for open-end generation.\n",
      "The attention mask and the pad token id were not set. As a consequence, you may observe unexpected behavior. Please pass your input's `attention_mask` to obtain reliable results.\n",
      "Setting `pad_token_id` to `eos_token_id`:50256 for open-end generation.\n",
      "The attention mask and the pad token id were not set. As a consequence, you may observe unexpected behavior. Please pass your input's `attention_mask` to obtain reliable results.\n",
      "Setting `pad_token_id` to `eos_token_id`:50256 for open-end generation.\n"
     ]
    },
    {
     "name": "stdout",
     "output_type": "stream",
     "text": [
      "Response 1:\n",
      "## INPUT\n",
      "Quantum Computing\n",
      "##OUTPUT\n",
      "Quantum computers are special machines that can do really, reall...\n",
      "\n",
      "Response 2:\n",
      "## INPUT\n",
      "Quantum Computing.\n",
      "##OUTPUT\n",
      "Hello there! I'm here to tell you about something very cool and...\n",
      "\n",
      "Response 3:\n",
      "## INPUT\n",
      "Quantum Computing is like solving really hard puzzles using special tools that can do thing...\n",
      "\n",
      "Response 4:\n",
      "## INPUT\n",
      "Quantum Computing is like having superpowers for computers, but instead of using your hands...\n",
      "\n",
      "Generating responses for: Write a humorous dialogue between two cats discuss...\n"
     ]
    },
    {
     "name": "stderr",
     "output_type": "stream",
     "text": [
      "The attention mask and the pad token id were not set. As a consequence, you may observe unexpected behavior. Please pass your input's `attention_mask` to obtain reliable results.\n",
      "Setting `pad_token_id` to `eos_token_id`:50256 for open-end generation.\n",
      "The attention mask and the pad token id were not set. As a consequence, you may observe unexpected behavior. Please pass your input's `attention_mask` to obtain reliable results.\n",
      "Setting `pad_token_id` to `eos_token_id`:50256 for open-end generation.\n",
      "The attention mask and the pad token id were not set. As a consequence, you may observe unexpected behavior. Please pass your input's `attention_mask` to obtain reliable results.\n",
      "Setting `pad_token_id` to `eos_token_id`:50256 for open-end generation.\n",
      "The attention mask and the pad token id were not set. As a consequence, you may observe unexpected behavior. Please pass your input's `attention_mask` to obtain reliable results.\n",
      "Setting `pad_token_id` to `eos_token_id`:50256 for open-end generation.\n"
     ]
    },
    {
     "name": "stdout",
     "output_type": "stream",
     "text": [
      "Response 1:\n",
      "Answer: Cat 1: Did you see how our humans stare at us with those crazy animal eyes? It's like they t...\n",
      "\n",
      "Response 2:\n",
      "## INPUT\n",
      "Cat 1: Hey, have you noticed how our humans treat us? It's like they think we're royalty!\n",
      "C...\n",
      "\n",
      "Response 3:\n",
      "The conversation should be filled with witty remarks and playful banter, showcasing the unique perso...\n",
      "\n",
      "Response 4:\n",
      "Use at least three puns and one reference to the weather in your response. \n",
      "Output: Feline 1: Have y...\n",
      "\n",
      "Generating responses for: Provide three effective strategies for improving t...\n"
     ]
    },
    {
     "name": "stderr",
     "output_type": "stream",
     "text": [
      "The attention mask and the pad token id were not set. As a consequence, you may observe unexpected behavior. Please pass your input's `attention_mask` to obtain reliable results.\n",
      "Setting `pad_token_id` to `eos_token_id`:50256 for open-end generation.\n",
      "The attention mask and the pad token id were not set. As a consequence, you may observe unexpected behavior. Please pass your input's `attention_mask` to obtain reliable results.\n",
      "Setting `pad_token_id` to `eos_token_id`:50256 for open-end generation.\n",
      "The attention mask and the pad token id were not set. As a consequence, you may observe unexpected behavior. Please pass your input's `attention_mask` to obtain reliable results.\n",
      "Setting `pad_token_id` to `eos_token_id`:50256 for open-end generation.\n",
      "The attention mask and the pad token id were not set. As a consequence, you may observe unexpected behavior. Please pass your input's `attention_mask` to obtain reliable results.\n",
      "Setting `pad_token_id` to `eos_token_id`:50256 for open-end generation.\n"
     ]
    },
    {
     "name": "stdout",
     "output_type": "stream",
     "text": [
      "Response 1:\n",
      "...\n",
      "\n",
      "Response 2:\n",
      "Answer: Creating a schedule, setting priorities, and avoiding multitasking are essential strategies ...\n",
      "\n",
      "Response 3:\n",
      "Answer: Three effective strategies include prioritizing tasks, setting realistic goals and deadlines...\n",
      "\n",
      "Response 4:\n",
      "Answer: \n",
      "1) Prioritize tasks and create a to-do list based on urgency and importance. This helps ens...\n",
      "\n",
      "Generating responses for: Describe the ethical implications of using AI in h...\n"
     ]
    },
    {
     "name": "stderr",
     "output_type": "stream",
     "text": [
      "The attention mask and the pad token id were not set. As a consequence, you may observe unexpected behavior. Please pass your input's `attention_mask` to obtain reliable results.\n",
      "Setting `pad_token_id` to `eos_token_id`:50256 for open-end generation.\n",
      "The attention mask and the pad token id were not set. As a consequence, you may observe unexpected behavior. Please pass your input's `attention_mask` to obtain reliable results.\n",
      "Setting `pad_token_id` to `eos_token_id`:50256 for open-end generation.\n",
      "The attention mask and the pad token id were not set. As a consequence, you may observe unexpected behavior. Please pass your input's `attention_mask` to obtain reliable results.\n",
      "Setting `pad_token_id` to `eos_token_id`:50256 for open-end generation.\n"
     ]
    },
    {
     "name": "stdout",
     "output_type": "stream",
     "text": [
      "Response 1:\n",
      "...\n",
      "\n",
      "Response 2:\n",
      "Answer: The use of AI in healthcare raises concerns about patient privacy, data security, and potent...\n",
      "\n",
      "Response 3:\n",
      "Solution: Using AI in healthcare decisions raises concerns about transparency, accountability, and f...\n",
      "\n",
      "Response 4:\n",
      "Answer: The use of AI algorithms to make critical medical decisions raises concerns about patient pr...\n",
      "\n"
     ]
    }
   ],
   "source": [
    "# Generate responses for each prompt\n",
    "all_data = []\n",
    "\n",
    "for prompt in prompts:\n",
    "    print(f\"Generating responses for: {prompt[:50]}...\")\n",
    "    responses = generate_responses(prompt)\n",
    "    \n",
    "    # Display the responses\n",
    "    for i, response in enumerate(responses, 1):\n",
    "        print(f\"Response {i}:\\n{response[:100]}...\\n\")\n",
    "        \n",
    "        # Add to data (rank will be filled manually later)\n",
    "        all_data.append({\n",
    "            \"prompt\": prompt,\n",
    "            \"answer\": response,\n",
    "            \"rank\": None  # To be filled manually\n",
    "        })\n"
   ]
  },
  {
   "cell_type": "code",
   "execution_count": 20,
   "metadata": {},
   "outputs": [
    {
     "name": "stdout",
     "output_type": "stream",
     "text": [
      "Saved responses to answers.csv\n"
     ]
    },
    {
     "data": {
      "text/html": [
       "<div>\n",
       "<style scoped>\n",
       "    .dataframe tbody tr th:only-of-type {\n",
       "        vertical-align: middle;\n",
       "    }\n",
       "\n",
       "    .dataframe tbody tr th {\n",
       "        vertical-align: top;\n",
       "    }\n",
       "\n",
       "    .dataframe thead th {\n",
       "        text-align: right;\n",
       "    }\n",
       "</style>\n",
       "<table border=\"1\" class=\"dataframe\">\n",
       "  <thead>\n",
       "    <tr style=\"text-align: right;\">\n",
       "      <th></th>\n",
       "      <th>prompt</th>\n",
       "      <th>answer</th>\n",
       "      <th>rank</th>\n",
       "    </tr>\n",
       "  </thead>\n",
       "  <tbody>\n",
       "    <tr>\n",
       "      <th>0</th>\n",
       "      <td>Write a short story about an AI that becomes s...</td>\n",
       "      <td>Answer: Once upon a time, in the year 2035, sc...</td>\n",
       "      <td>None</td>\n",
       "    </tr>\n",
       "    <tr>\n",
       "      <th>1</th>\n",
       "      <td>Write a short story about an AI that becomes s...</td>\n",
       "      <td>Answer: In the year 2050, AI technology had ad...</td>\n",
       "      <td>None</td>\n",
       "    </tr>\n",
       "    <tr>\n",
       "      <th>2</th>\n",
       "      <td>Write a short story about an AI that becomes s...</td>\n",
       "      <td>2. Write a conversation between two friends di...</td>\n",
       "      <td>None</td>\n",
       "    </tr>\n",
       "    <tr>\n",
       "      <th>3</th>\n",
       "      <td>Write a short story about an AI that becomes s...</td>\n",
       "      <td>Use creative expression skills such as vivid d...</td>\n",
       "      <td>None</td>\n",
       "    </tr>\n",
       "    <tr>\n",
       "      <th>4</th>\n",
       "      <td>Explain quantum computing to a 10-year-old child.</td>\n",
       "      <td>## INPUT\\nQuantum Computing\\n##OUTPUT\\nQuantum...</td>\n",
       "      <td>None</td>\n",
       "    </tr>\n",
       "  </tbody>\n",
       "</table>\n",
       "</div>"
      ],
      "text/plain": [
       "                                              prompt  \\\n",
       "0  Write a short story about an AI that becomes s...   \n",
       "1  Write a short story about an AI that becomes s...   \n",
       "2  Write a short story about an AI that becomes s...   \n",
       "3  Write a short story about an AI that becomes s...   \n",
       "4  Explain quantum computing to a 10-year-old child.   \n",
       "\n",
       "                                              answer  rank  \n",
       "0  Answer: Once upon a time, in the year 2035, sc...  None  \n",
       "1  Answer: In the year 2050, AI technology had ad...  None  \n",
       "2  2. Write a conversation between two friends di...  None  \n",
       "3  Use creative expression skills such as vivid d...  None  \n",
       "4  ## INPUT\\nQuantum Computing\\n##OUTPUT\\nQuantum...  None  "
      ]
     },
     "execution_count": 20,
     "metadata": {},
     "output_type": "execute_result"
    }
   ],
   "source": [
    "# Create DataFrame and save to CSV\n",
    "df = pd.DataFrame(all_data)\n",
    "csv_path = \"answers.csv\"  # Save in the current directory which is q2_reward\n",
    "df.to_csv(csv_path, index=False)\n",
    "print(f\"Saved responses to {csv_path}\")\n",
    "df.head()\n"
   ]
  },
  {
   "cell_type": "code",
   "execution_count": 21,
   "metadata": {},
   "outputs": [
    {
     "name": "stdout",
     "output_type": "stream",
     "text": [
      "Checking for manually ranked data...\n",
      "No or incomplete rankings found. Adding sample rankings for demonstration.\n",
      "Added rankings and saved to answers.csv\n",
      "Loaded 18 ranked responses\n",
      "Data types: prompt    object\n",
      "answer    object\n",
      "rank       int64\n",
      "dtype: object\n",
      "Unique ranks: [1 2 3 4]\n"
     ]
    },
    {
     "data": {
      "text/html": [
       "<div>\n",
       "<style scoped>\n",
       "    .dataframe tbody tr th:only-of-type {\n",
       "        vertical-align: middle;\n",
       "    }\n",
       "\n",
       "    .dataframe tbody tr th {\n",
       "        vertical-align: top;\n",
       "    }\n",
       "\n",
       "    .dataframe thead th {\n",
       "        text-align: right;\n",
       "    }\n",
       "</style>\n",
       "<table border=\"1\" class=\"dataframe\">\n",
       "  <thead>\n",
       "    <tr style=\"text-align: right;\">\n",
       "      <th></th>\n",
       "      <th>prompt</th>\n",
       "      <th>answer</th>\n",
       "      <th>rank</th>\n",
       "    </tr>\n",
       "  </thead>\n",
       "  <tbody>\n",
       "    <tr>\n",
       "      <th>0</th>\n",
       "      <td>Write a short story about an AI that becomes s...</td>\n",
       "      <td>Answer: Once upon a time, in the year 2035, sc...</td>\n",
       "      <td>1</td>\n",
       "    </tr>\n",
       "    <tr>\n",
       "      <th>1</th>\n",
       "      <td>Write a short story about an AI that becomes s...</td>\n",
       "      <td>Answer: In the year 2050, AI technology had ad...</td>\n",
       "      <td>2</td>\n",
       "    </tr>\n",
       "    <tr>\n",
       "      <th>2</th>\n",
       "      <td>Write a short story about an AI that becomes s...</td>\n",
       "      <td>2. Write a conversation between two friends di...</td>\n",
       "      <td>3</td>\n",
       "    </tr>\n",
       "    <tr>\n",
       "      <th>3</th>\n",
       "      <td>Write a short story about an AI that becomes s...</td>\n",
       "      <td>Use creative expression skills such as vivid d...</td>\n",
       "      <td>4</td>\n",
       "    </tr>\n",
       "    <tr>\n",
       "      <th>4</th>\n",
       "      <td>Explain quantum computing to a 10-year-old child.</td>\n",
       "      <td>## INPUT\\nQuantum Computing\\n##OUTPUT\\nQuantum...</td>\n",
       "      <td>1</td>\n",
       "    </tr>\n",
       "  </tbody>\n",
       "</table>\n",
       "</div>"
      ],
      "text/plain": [
       "                                              prompt  \\\n",
       "0  Write a short story about an AI that becomes s...   \n",
       "1  Write a short story about an AI that becomes s...   \n",
       "2  Write a short story about an AI that becomes s...   \n",
       "3  Write a short story about an AI that becomes s...   \n",
       "4  Explain quantum computing to a 10-year-old child.   \n",
       "\n",
       "                                              answer  rank  \n",
       "0  Answer: Once upon a time, in the year 2035, sc...     1  \n",
       "1  Answer: In the year 2050, AI technology had ad...     2  \n",
       "2  2. Write a conversation between two friends di...     3  \n",
       "3  Use creative expression skills such as vivid d...     4  \n",
       "4  ## INPUT\\nQuantum Computing\\n##OUTPUT\\nQuantum...     1  "
      ]
     },
     "execution_count": 21,
     "metadata": {},
     "output_type": "execute_result"
    }
   ],
   "source": [
    "# In a real scenario, you would manually rank the responses here\n",
    "# For this case, we'll add rankings automatically for demonstration\n",
    "\n",
    "# First, try to read existing ranked data\n",
    "print(\"Checking for manually ranked data...\")\n",
    "ranked_df = pd.read_csv(csv_path)\n",
    "\n",
    "# Check if rankings exist\n",
    "if ranked_df['rank'].isnull().any() or len(ranked_df) == 0:\n",
    "    print(\"No or incomplete rankings found. Adding sample rankings for demonstration.\")\n",
    "    # Add sample rankings (1=best, 4=worst) to the data\n",
    "    for prompt in prompts:\n",
    "        # Get all responses for this prompt\n",
    "        prompt_responses = ranked_df[ranked_df['prompt'] == prompt]\n",
    "        \n",
    "        # If we have responses for this prompt, assign ranks\n",
    "        if len(prompt_responses) > 0:\n",
    "            # Assign ranks 1 to N to the responses for this prompt\n",
    "            for idx, (i, row) in enumerate(prompt_responses.iterrows(), 1):\n",
    "                ranked_df.loc[i, 'rank'] = idx\n",
    "    \n",
    "    # Save the updated DataFrame with ranks\n",
    "    ranked_df.to_csv(csv_path, index=False)\n",
    "    print(f\"Added rankings and saved to {csv_path}\")\n",
    "\n",
    "# Reload the data to ensure ranks are there\n",
    "ranked_df = pd.read_csv(csv_path)\n",
    "ranked_df = ranked_df.dropna()\n",
    "if len(ranked_df) > 0:\n",
    "    ranked_df['rank'] = ranked_df['rank'].astype(int)\n",
    "    print(f\"Loaded {len(ranked_df)} ranked responses\")\n",
    "    print(f\"Data types: {ranked_df.dtypes}\")\n",
    "    print(f\"Unique ranks: {ranked_df['rank'].unique()}\")\n",
    "else:\n",
    "    print(\"WARNING: No ranked responses available. Creating sample data.\")\n",
    "    # Create completely new sample data with rankings\n",
    "    sample_data = []\n",
    "    for p_idx, prompt in enumerate(prompts):\n",
    "        responses = generate_responses(prompt)\n",
    "        for r_idx, response in enumerate(responses, 1):\n",
    "            sample_data.append({\n",
    "                \"prompt\": prompt,\n",
    "                \"answer\": response,\n",
    "                \"rank\": r_idx  # Simple ranking for demo\n",
    "            })\n",
    "    \n",
    "    ranked_df = pd.DataFrame(sample_data)\n",
    "    ranked_df.to_csv(csv_path, index=False)\n",
    "    print(f\"Created and saved {len(ranked_df)} sample ranked responses\")\n",
    "\n",
    "ranked_df.head()"
   ]
  },
  {
   "cell_type": "code",
   "execution_count": 22,
   "metadata": {},
   "outputs": [
    {
     "name": "stdout",
     "output_type": "stream",
     "text": [
      "Created/confirmed reward model directory at: reward_model\n",
      "Created dataset with 24 preference pairs\n",
      "Initializing reward model from distilbert-base-uncased\n"
     ]
    },
    {
     "data": {
      "application/vnd.jupyter.widget-view+json": {
       "model_id": "49f1a717d1804b798e71b1f247771e1e",
       "version_major": 2,
       "version_minor": 0
      },
      "text/plain": [
       "tokenizer_config.json:   0%|          | 0.00/48.0 [00:00<?, ?B/s]"
      ]
     },
     "metadata": {},
     "output_type": "display_data"
    },
    {
     "data": {
      "application/vnd.jupyter.widget-view+json": {
       "model_id": "63e85c6e2b264aad94f0dd71c13a1f8a",
       "version_major": 2,
       "version_minor": 0
      },
      "text/plain": [
       "config.json:   0%|          | 0.00/483 [00:00<?, ?B/s]"
      ]
     },
     "metadata": {},
     "output_type": "display_data"
    },
    {
     "data": {
      "application/vnd.jupyter.widget-view+json": {
       "model_id": "9ab1ed33d7f0481aa9aa68ba5dd1c390",
       "version_major": 2,
       "version_minor": 0
      },
      "text/plain": [
       "vocab.txt:   0%|          | 0.00/232k [00:00<?, ?B/s]"
      ]
     },
     "metadata": {},
     "output_type": "display_data"
    },
    {
     "data": {
      "application/vnd.jupyter.widget-view+json": {
       "model_id": "48d0aaaf13f94bca8afb1c5e86c6c2e3",
       "version_major": 2,
       "version_minor": 0
      },
      "text/plain": [
       "tokenizer.json:   0%|          | 0.00/466k [00:00<?, ?B/s]"
      ]
     },
     "metadata": {},
     "output_type": "display_data"
    },
    {
     "data": {
      "application/vnd.jupyter.widget-view+json": {
       "model_id": "9dbc6a9f2c12451d898bd845f1820ebf",
       "version_major": 2,
       "version_minor": 0
      },
      "text/plain": [
       "model.safetensors:   0%|          | 0.00/268M [00:00<?, ?B/s]"
      ]
     },
     "metadata": {},
     "output_type": "display_data"
    },
    {
     "name": "stderr",
     "output_type": "stream",
     "text": [
      "Some weights of DistilBertForSequenceClassification were not initialized from the model checkpoint at distilbert-base-uncased and are newly initialized: ['classifier.bias', 'classifier.weight', 'pre_classifier.bias', 'pre_classifier.weight']\n",
      "You should probably TRAIN this model on a down-stream task to be able to use it for predictions and inference.\n",
      "average_tokens_across_devices is set to True but it is invalid when world size is1. Turn it to False automatically.\n"
     ]
    },
    {
     "name": "stdout",
     "output_type": "stream",
     "text": [
      "Reward model configuration:\n",
      "- Training steps: 100\n",
      "- Learning rate: 5e-05\n",
      "- Batch size: 4\n",
      "Initializing reward trainer...\n"
     ]
    },
    {
     "data": {
      "application/vnd.jupyter.widget-view+json": {
       "model_id": "c5eb06da75d0447bb10a0e25355d3533",
       "version_major": 2,
       "version_minor": 0
      },
      "text/plain": [
       "Map:   0%|          | 0/24 [00:00<?, ? examples/s]"
      ]
     },
     "metadata": {},
     "output_type": "display_data"
    },
    {
     "data": {
      "application/vnd.jupyter.widget-view+json": {
       "model_id": "cda8f5f7584840fc87c393215878c361",
       "version_major": 2,
       "version_minor": 0
      },
      "text/plain": [
       "Map:   0%|          | 0/24 [00:00<?, ? examples/s]"
      ]
     },
     "metadata": {},
     "output_type": "display_data"
    },
    {
     "data": {
      "application/vnd.jupyter.widget-view+json": {
       "model_id": "c52e03b2a11246cab4ffc0dc837b83b4",
       "version_major": 2,
       "version_minor": 0
      },
      "text/plain": [
       "Filter:   0%|          | 0/24 [00:00<?, ? examples/s]"
      ]
     },
     "metadata": {},
     "output_type": "display_data"
    },
    {
     "name": "stdout",
     "output_type": "stream",
     "text": [
      "\n",
      "🔄 Starting reward model training. This may take a few minutes...\n"
     ]
    },
    {
     "name": "stderr",
     "output_type": "stream",
     "text": [
      "/home/zeus/miniconda3/envs/cloudspace/lib/python3.10/site-packages/torch/utils/data/dataloader.py:665: UserWarning: 'pin_memory' argument is set as true but no accelerator is found, then device pinned memory won't be used.\n",
      "  warnings.warn(warn_msg)\n",
      "You're using a DistilBertTokenizerFast tokenizer. Please note that with a fast tokenizer, using the `__call__` method is faster than using a method to encode the text followed by a call to the `pad` method to get a padded encoding.\n"
     ]
    },
    {
     "data": {
      "text/html": [
       "\n",
       "    <div>\n",
       "      \n",
       "      <progress value='100' max='100' style='width:300px; height:20px; vertical-align: middle;'></progress>\n",
       "      [100/100 01:21, Epoch 16/17]\n",
       "    </div>\n",
       "    <table border=\"1\" class=\"dataframe\">\n",
       "  <thead>\n",
       " <tr style=\"text-align: left;\">\n",
       "      <th>Step</th>\n",
       "      <th>Training Loss</th>\n",
       "    </tr>\n",
       "  </thead>\n",
       "  <tbody>\n",
       "    <tr>\n",
       "      <td>10</td>\n",
       "      <td>0.618200</td>\n",
       "    </tr>\n",
       "    <tr>\n",
       "      <td>20</td>\n",
       "      <td>0.339000</td>\n",
       "    </tr>\n",
       "    <tr>\n",
       "      <td>30</td>\n",
       "      <td>0.201500</td>\n",
       "    </tr>\n",
       "    <tr>\n",
       "      <td>40</td>\n",
       "      <td>0.098800</td>\n",
       "    </tr>\n",
       "    <tr>\n",
       "      <td>50</td>\n",
       "      <td>0.073100</td>\n",
       "    </tr>\n",
       "    <tr>\n",
       "      <td>60</td>\n",
       "      <td>0.050800</td>\n",
       "    </tr>\n",
       "    <tr>\n",
       "      <td>70</td>\n",
       "      <td>0.041800</td>\n",
       "    </tr>\n",
       "    <tr>\n",
       "      <td>80</td>\n",
       "      <td>0.028400</td>\n",
       "    </tr>\n",
       "    <tr>\n",
       "      <td>90</td>\n",
       "      <td>0.025900</td>\n",
       "    </tr>\n",
       "    <tr>\n",
       "      <td>100</td>\n",
       "      <td>0.023800</td>\n",
       "    </tr>\n",
       "  </tbody>\n",
       "</table><p>"
      ],
      "text/plain": [
       "<IPython.core.display.HTML object>"
      ]
     },
     "metadata": {},
     "output_type": "display_data"
    },
    {
     "name": "stderr",
     "output_type": "stream",
     "text": [
      "/home/zeus/miniconda3/envs/cloudspace/lib/python3.10/site-packages/torch/utils/data/dataloader.py:665: UserWarning: 'pin_memory' argument is set as true but no accelerator is found, then device pinned memory won't be used.\n",
      "  warnings.warn(warn_msg)\n",
      "/home/zeus/miniconda3/envs/cloudspace/lib/python3.10/site-packages/torch/utils/data/dataloader.py:665: UserWarning: 'pin_memory' argument is set as true but no accelerator is found, then device pinned memory won't be used.\n",
      "  warnings.warn(warn_msg)\n",
      "/home/zeus/miniconda3/envs/cloudspace/lib/python3.10/site-packages/torch/utils/data/dataloader.py:665: UserWarning: 'pin_memory' argument is set as true but no accelerator is found, then device pinned memory won't be used.\n",
      "  warnings.warn(warn_msg)\n",
      "/home/zeus/miniconda3/envs/cloudspace/lib/python3.10/site-packages/torch/utils/data/dataloader.py:665: UserWarning: 'pin_memory' argument is set as true but no accelerator is found, then device pinned memory won't be used.\n",
      "  warnings.warn(warn_msg)\n",
      "/home/zeus/miniconda3/envs/cloudspace/lib/python3.10/site-packages/torch/utils/data/dataloader.py:665: UserWarning: 'pin_memory' argument is set as true but no accelerator is found, then device pinned memory won't be used.\n",
      "  warnings.warn(warn_msg)\n",
      "/home/zeus/miniconda3/envs/cloudspace/lib/python3.10/site-packages/torch/utils/data/dataloader.py:665: UserWarning: 'pin_memory' argument is set as true but no accelerator is found, then device pinned memory won't be used.\n",
      "  warnings.warn(warn_msg)\n",
      "/home/zeus/miniconda3/envs/cloudspace/lib/python3.10/site-packages/torch/utils/data/dataloader.py:665: UserWarning: 'pin_memory' argument is set as true but no accelerator is found, then device pinned memory won't be used.\n",
      "  warnings.warn(warn_msg)\n",
      "/home/zeus/miniconda3/envs/cloudspace/lib/python3.10/site-packages/torch/utils/data/dataloader.py:665: UserWarning: 'pin_memory' argument is set as true but no accelerator is found, then device pinned memory won't be used.\n",
      "  warnings.warn(warn_msg)\n",
      "/home/zeus/miniconda3/envs/cloudspace/lib/python3.10/site-packages/torch/utils/data/dataloader.py:665: UserWarning: 'pin_memory' argument is set as true but no accelerator is found, then device pinned memory won't be used.\n",
      "  warnings.warn(warn_msg)\n",
      "/home/zeus/miniconda3/envs/cloudspace/lib/python3.10/site-packages/torch/utils/data/dataloader.py:665: UserWarning: 'pin_memory' argument is set as true but no accelerator is found, then device pinned memory won't be used.\n",
      "  warnings.warn(warn_msg)\n",
      "/home/zeus/miniconda3/envs/cloudspace/lib/python3.10/site-packages/torch/utils/data/dataloader.py:665: UserWarning: 'pin_memory' argument is set as true but no accelerator is found, then device pinned memory won't be used.\n",
      "  warnings.warn(warn_msg)\n",
      "/home/zeus/miniconda3/envs/cloudspace/lib/python3.10/site-packages/torch/utils/data/dataloader.py:665: UserWarning: 'pin_memory' argument is set as true but no accelerator is found, then device pinned memory won't be used.\n",
      "  warnings.warn(warn_msg)\n",
      "/home/zeus/miniconda3/envs/cloudspace/lib/python3.10/site-packages/torch/utils/data/dataloader.py:665: UserWarning: 'pin_memory' argument is set as true but no accelerator is found, then device pinned memory won't be used.\n",
      "  warnings.warn(warn_msg)\n",
      "/home/zeus/miniconda3/envs/cloudspace/lib/python3.10/site-packages/torch/utils/data/dataloader.py:665: UserWarning: 'pin_memory' argument is set as true but no accelerator is found, then device pinned memory won't be used.\n",
      "  warnings.warn(warn_msg)\n",
      "/home/zeus/miniconda3/envs/cloudspace/lib/python3.10/site-packages/torch/utils/data/dataloader.py:665: UserWarning: 'pin_memory' argument is set as true but no accelerator is found, then device pinned memory won't be used.\n",
      "  warnings.warn(warn_msg)\n",
      "/home/zeus/miniconda3/envs/cloudspace/lib/python3.10/site-packages/torch/utils/data/dataloader.py:665: UserWarning: 'pin_memory' argument is set as true but no accelerator is found, then device pinned memory won't be used.\n",
      "  warnings.warn(warn_msg)\n"
     ]
    },
    {
     "name": "stdout",
     "output_type": "stream",
     "text": [
      "Training completed! Metrics: {'train_runtime': 82.7839, 'train_samples_per_second': 4.832, 'train_steps_per_second': 1.208, 'total_flos': 0.0, 'train_loss': 0.15014896139502526, 'epoch': 16.666666666666668}\n",
      "\n",
      "💾 Saving the trained model and tokenizer...\n",
      "✅ Model, tokenizer, and training args saved to reward_model/\n",
      "\n",
      "Verifying saved files in reward_model/:\n",
      "- README.md\n",
      "- checkpoint-100\n",
      "- checkpoint-12\n",
      "- checkpoint-18\n",
      "- checkpoint-24\n",
      "- checkpoint-30\n",
      "- checkpoint-36\n",
      "- checkpoint-42\n",
      "- checkpoint-48\n",
      "- checkpoint-54\n",
      "- checkpoint-6\n",
      "- checkpoint-60\n",
      "- checkpoint-66\n",
      "- checkpoint-72\n",
      "- checkpoint-78\n",
      "- checkpoint-84\n",
      "- checkpoint-90\n",
      "- checkpoint-96\n",
      "- config.json\n",
      "- model.safetensors\n",
      "- special_tokens_map.json\n",
      "- tokenizer.json\n",
      "- tokenizer_config.json\n",
      "- training_args.json\n",
      "- vocab.txt\n",
      "⚠️ Warning: Some essential files are missing: ['pytorch_model.bin']\n",
      "\n",
      "==================================================\n",
      "If the above approach fails, try this alternative:\n",
      "==================================================\n"
     ]
    }
   ],
   "source": [
    "# Import libraries for reward model training\n",
    "from trl import RewardTrainer, RewardConfig\n",
    "from transformers import AutoModelForSequenceClassification, AutoTokenizer\n",
    "from datasets import Dataset\n",
    "import os\n",
    "import json\n",
    "import pandas as pd\n",
    "\n",
    "# Prepare data for reward model training\n",
    "def prepare_training_data(df):\n",
    "    # Convert DataFrame to dataset\n",
    "    dataset_dict = {\n",
    "        \"prompt\": [],\n",
    "        \"chosen\": [],\n",
    "        \"rejected\": []\n",
    "    }\n",
    "    \n",
    "    # Group by prompt\n",
    "    for prompt, group in df.groupby(\"prompt\"):\n",
    "        # Sort by rank (1 is best, 4 is worst)\n",
    "        sorted_responses = group.sort_values(\"rank\")\n",
    "        \n",
    "        if len(sorted_responses) < 2:\n",
    "            continue  # Skip if we don't have enough responses for this prompt\n",
    "            \n",
    "        # Create preference pairs (better ranked vs worse ranked)\n",
    "        for i in range(len(sorted_responses) - 1):\n",
    "            for j in range(i + 1, len(sorted_responses)):\n",
    "                better_response = sorted_responses.iloc[i][\"answer\"]\n",
    "                worse_response = sorted_responses.iloc[j][\"answer\"]\n",
    "                \n",
    "                # Skip empty or invalid responses\n",
    "                if pd.isna(better_response) or pd.isna(worse_response) or better_response == '' or worse_response == '':\n",
    "                    continue\n",
    "                    \n",
    "                dataset_dict[\"prompt\"].append(prompt)\n",
    "                dataset_dict[\"chosen\"].append(better_response)\n",
    "                dataset_dict[\"rejected\"].append(worse_response)\n",
    "    \n",
    "    print(f\"Created dataset with {len(dataset_dict['prompt'])} preference pairs\")\n",
    "    \n",
    "    # Return None if no valid pairs were created\n",
    "    if len(dataset_dict[\"prompt\"]) == 0:\n",
    "        print(\"No valid preference pairs created. Cannot train the model.\")\n",
    "        return None\n",
    "    \n",
    "    # Convert to dataset\n",
    "    return Dataset.from_dict(dataset_dict)\n",
    "\n",
    "# Create reward model directory\n",
    "reward_model_dir = \"reward_model\"\n",
    "os.makedirs(reward_model_dir, exist_ok=True)\n",
    "print(f\"Created/confirmed reward model directory at: {reward_model_dir}\")\n",
    "\n",
    "# Create training dataset\n",
    "train_dataset = prepare_training_data(ranked_df)\n",
    "\n",
    "if train_dataset is not None and len(train_dataset) > 0:\n",
    "    # Initialize reward model and tokenizer\n",
    "    reward_model_name = \"distilbert-base-uncased\"\n",
    "    print(f\"Initializing reward model from {reward_model_name}\")\n",
    "    \n",
    "    # Load tokenizer first\n",
    "    reward_tokenizer = AutoTokenizer.from_pretrained(reward_model_name)\n",
    "    \n",
    "    # Add padding token if it doesn't exist\n",
    "    if reward_tokenizer.pad_token is None:\n",
    "        reward_tokenizer.pad_token = reward_tokenizer.eos_token\n",
    "    \n",
    "    # Load model\n",
    "    reward_model = AutoModelForSequenceClassification.from_pretrained(reward_model_name, num_labels=1)\n",
    "    \n",
    "    # Resize token embeddings if needed\n",
    "    reward_model.resize_token_embeddings(len(reward_tokenizer))\n",
    "    \n",
    "    # Set up reward config for training\n",
    "    reward_config = RewardConfig(\n",
    "        output_dir=reward_model_dir,\n",
    "        num_train_epochs=3,\n",
    "        per_device_train_batch_size=4,\n",
    "        save_strategy=\"epoch\",\n",
    "        learning_rate=5e-5,\n",
    "        max_steps=100,  # Train for 50-100 steps as specified\n",
    "        fp16=False,\n",
    "        bf16=False,  # Disable mixed precision to avoid GPU-specific issues\n",
    "        report_to=\"none\",  # Disable wandb reporting\n",
    "        remove_unused_columns=False,  # Keep all columns for reward training\n",
    "    )\n",
    "    \n",
    "    print(\"Reward model configuration:\")\n",
    "    print(f\"- Training steps: {reward_config.max_steps}\")\n",
    "    print(f\"- Learning rate: {reward_config.learning_rate}\")\n",
    "    print(f\"- Batch size: {reward_config.per_device_train_batch_size}\")\n",
    "    \n",
    "    # Initialize reward trainer with processing_class (tokenizer)\n",
    "    print(\"Initializing reward trainer...\")\n",
    "    reward_trainer = RewardTrainer(\n",
    "        model=reward_model,\n",
    "        args=reward_config,\n",
    "        train_dataset=train_dataset,\n",
    "        processing_class=reward_tokenizer,  # Use processing_class instead of tokenizer\n",
    "    )\n",
    "    \n",
    "    # Train the model\n",
    "    print(\"\\n🔄 Starting reward model training. This may take a few minutes...\")\n",
    "    try:\n",
    "        train_result = reward_trainer.train()\n",
    "        print(f\"Training completed! Metrics: {train_result.metrics}\")\n",
    "        \n",
    "        # Save the trained model and tokenizer\n",
    "        print(\"\\n💾 Saving the trained model and tokenizer...\")\n",
    "        reward_model.save_pretrained(reward_model_dir)\n",
    "        reward_tokenizer.save_pretrained(reward_model_dir)\n",
    "        \n",
    "        # Save training args for reproducibility\n",
    "        with open(os.path.join(reward_model_dir, \"training_args.json\"), \"w\") as f:\n",
    "            json.dump(reward_config.to_dict(), f, indent=2)\n",
    "        \n",
    "        print(f\"✅ Model, tokenizer, and training args saved to {reward_model_dir}/\")\n",
    "        \n",
    "        # Verify the saved files\n",
    "        saved_files = os.listdir(reward_model_dir)\n",
    "        print(f\"\\nVerifying saved files in {reward_model_dir}/:\")\n",
    "        print(\"\\n\".join(f\"- {file}\" for file in saved_files))\n",
    "        \n",
    "        # Check if the essential files are present\n",
    "        essential_files = [\"config.json\", \"pytorch_model.bin\", \"tokenizer.json\", \"tokenizer_config.json\"]\n",
    "        missing_files = [file for file in essential_files if file not in saved_files]\n",
    "        if missing_files:\n",
    "            print(f\"⚠️ Warning: Some essential files are missing: {missing_files}\")\n",
    "        else:\n",
    "            print(\"✅ All essential model files are present!\")\n",
    "            \n",
    "    except Exception as e:\n",
    "        print(f\"❌ Training failed with error: {e}\")\n",
    "        print(\"This might be due to:\")\n",
    "        print(\"- Insufficient data\")\n",
    "        print(\"- Memory issues\")\n",
    "        print(\"- Version compatibility issues\")\n",
    "        print(\"\\nTry reducing batch_size or max_steps in the config.\")\n",
    "        \n",
    "else:\n",
    "    print(\"❌ Could not create training dataset. Not training the model.\")\n",
    "\n",
    "# Alternative approach if the above doesn't work - use data collator\n",
    "print(\"\\n\" + \"=\"*50)\n",
    "print(\"If the above approach fails, try this alternative:\")\n",
    "print(\"=\"*50)\n",
    "\n",
    "def alternative_reward_training_approach():\n",
    "    \"\"\"Alternative approach using custom data collator\"\"\"\n",
    "    from transformers import DataCollatorWithPadding\n",
    "    from trl import RewardDataCollatorWithPadding\n",
    "    \n",
    "    if train_dataset is not None and len(train_dataset) > 0:\n",
    "        # Option 1: Use TRL's RewardDataCollatorWithPadding\n",
    "        try:\n",
    "            data_collator = RewardDataCollatorWithPadding(\n",
    "                tokenizer=reward_tokenizer,\n",
    "                max_length=512,\n",
    "                pad_to_multiple_of=None,\n",
    "                return_tensors=\"pt\"\n",
    "            )\n",
    "            \n",
    "            reward_trainer_alt = RewardTrainer(\n",
    "                model=reward_model,\n",
    "                args=reward_config,\n",
    "                train_dataset=train_dataset,\n",
    "                data_collator=data_collator,\n",
    "            )\n",
    "            \n",
    "            return reward_trainer_alt\n",
    "            \n",
    "        except Exception as e:\n",
    "            print(f\"TRL data collator failed: {e}\")\n",
    "            \n",
    "            # Option 2: Use transformers DataCollatorWithPadding\n",
    "            try:\n",
    "                data_collator = DataCollatorWithPadding(\n",
    "                    tokenizer=reward_tokenizer,\n",
    "                    padding=True,\n",
    "                    max_length=512,\n",
    "                    pad_to_multiple_of=None,\n",
    "                    return_tensors=\"pt\"\n",
    "                )\n",
    "                \n",
    "                reward_trainer_alt = RewardTrainer(\n",
    "                    model=reward_model,\n",
    "                    args=reward_config,\n",
    "                    train_dataset=train_dataset,\n",
    "                    data_collator=data_collator,\n",
    "                    processing_class=reward_tokenizer,\n",
    "                )\n",
    "                \n",
    "                return reward_trainer_alt\n",
    "                \n",
    "            except Exception as e2:\n",
    "                print(f\"Both data collator approaches failed: {e2}\")\n",
    "                return None\n",
    "    \n",
    "    return None\n",
    "\n",
    "# Uncomment the lines below to try the alternative approach if needed\n",
    "# print(\"Trying alternative approach...\")\n",
    "# alt_trainer = alternative_reward_training_approach()\n",
    "# if alt_trainer:\n",
    "#     print(\"Alternative trainer created successfully!\")"
   ]
  },
  {
   "cell_type": "code",
   "execution_count": 24,
   "metadata": {},
   "outputs": [
    {
     "name": "stdout",
     "output_type": "stream",
     "text": [
      "Response score: 1.0695\n",
      "✅ Saved README file to reward_model/README.md\n"
     ]
    }
   ],
   "source": [
    "import os\n",
    "import torch\n",
    "from transformers import AutoModelForSequenceClassification, AutoTokenizer\n",
    "\n",
    "# Load the model and tokenizer from the correct directory\n",
    "model = AutoModelForSequenceClassification.from_pretrained(\"./reward_model\")\n",
    "tokenizer = AutoTokenizer.from_pretrained(\"./reward_model\")\n",
    "\n",
    "# Function to score a response\n",
    "def score_response(prompt, response):\n",
    "    inputs = tokenizer(prompt, response, return_tensors=\"pt\", truncation=True, max_length=512)\n",
    "    with torch.no_grad():\n",
    "        output = model(**inputs)\n",
    "        score = output.logits.item()\n",
    "    return score\n",
    "\n",
    "# Example usage\n",
    "prompt = \"Explain quantum computing\"\n",
    "response = \"Quantum computers use qubits that can be both 0 and 1 at the same time.\"\n",
    "score = score_response(prompt, response)\n",
    "print(f\"Response score: {score:.4f}\")\n",
    "\n",
    "# Define the README content\n",
    "readme_content = \"\"\"# Reward Model\n",
    "\n",
    "This is a reward model for scoring AI responses based on quality and helpfulness.\n",
    "\n",
    "## Training Details\n",
    "- Learning rate: 5e-5\n",
    "- Batch size: 4\n",
    "- Training steps: 100\n",
    "- Optimizer: AdamW\n",
    "\"\"\"\n",
    "\n",
    "# Save the README file\n",
    "with open(os.path.join(\"reward_model\", \"README.md\"), \"w\") as f:\n",
    "    f.write(readme_content)\n",
    "\n",
    "print(f\"✅ Saved README file to reward_model/README.md\")"
   ]
  },
  {
   "cell_type": "code",
   "execution_count": 26,
   "metadata": {},
   "outputs": [
    {
     "name": "stdout",
     "output_type": "stream",
     "text": [
      "=== Testing Reward Model ===\n",
      "Generating test responses...\n",
      "Generating responses for: Write a poem about artificial intelligence\n"
     ]
    },
    {
     "data": {
      "application/vnd.jupyter.widget-view+json": {
       "model_id": "1b8e82068c544eb39108a0e92a8f2cb9",
       "version_major": 2,
       "version_minor": 0
      },
      "text/plain": [
       "config.json:   0%|          | 0.00/665 [00:00<?, ?B/s]"
      ]
     },
     "metadata": {},
     "output_type": "display_data"
    },
    {
     "data": {
      "application/vnd.jupyter.widget-view+json": {
       "model_id": "bc4d82ba63214d1792fc6366e1bbedf7",
       "version_major": 2,
       "version_minor": 0
      },
      "text/plain": [
       "model.safetensors:   0%|          | 0.00/548M [00:00<?, ?B/s]"
      ]
     },
     "metadata": {},
     "output_type": "display_data"
    },
    {
     "data": {
      "application/vnd.jupyter.widget-view+json": {
       "model_id": "342f590f766e42c59fcb883cbf736f50",
       "version_major": 2,
       "version_minor": 0
      },
      "text/plain": [
       "generation_config.json:   0%|          | 0.00/124 [00:00<?, ?B/s]"
      ]
     },
     "metadata": {},
     "output_type": "display_data"
    },
    {
     "data": {
      "application/vnd.jupyter.widget-view+json": {
       "model_id": "7658a3a7e7294df486f806e0c1210483",
       "version_major": 2,
       "version_minor": 0
      },
      "text/plain": [
       "tokenizer_config.json:   0%|          | 0.00/26.0 [00:00<?, ?B/s]"
      ]
     },
     "metadata": {},
     "output_type": "display_data"
    },
    {
     "data": {
      "application/vnd.jupyter.widget-view+json": {
       "model_id": "691a46cffbaa442fb34de87755850b45",
       "version_major": 2,
       "version_minor": 0
      },
      "text/plain": [
       "vocab.json:   0%|          | 0.00/1.04M [00:00<?, ?B/s]"
      ]
     },
     "metadata": {},
     "output_type": "display_data"
    },
    {
     "data": {
      "application/vnd.jupyter.widget-view+json": {
       "model_id": "3f656f571ad74e17a2686bed75fde70c",
       "version_major": 2,
       "version_minor": 0
      },
      "text/plain": [
       "merges.txt:   0%|          | 0.00/456k [00:00<?, ?B/s]"
      ]
     },
     "metadata": {},
     "output_type": "display_data"
    },
    {
     "data": {
      "application/vnd.jupyter.widget-view+json": {
       "model_id": "20fc88dd0bee45dcb4babe18af6d1fb4",
       "version_major": 2,
       "version_minor": 0
      },
      "text/plain": [
       "tokenizer.json:   0%|          | 0.00/1.36M [00:00<?, ?B/s]"
      ]
     },
     "metadata": {},
     "output_type": "display_data"
    },
    {
     "name": "stdout",
     "output_type": "stream",
     "text": [
      "Generating responses for: Explain how a car engine works to a 5-year-old\n",
      "Generated 4 test responses\n",
      "Loading the saved reward model and tokenizer...\n",
      "Successfully loaded saved reward model and tokenizer.\n",
      "Scoring responses with the reward model...\n"
     ]
    },
    {
     "data": {
      "image/png": "[encoded data removed]",
      "text/plain": [
       "<Figure size 1200x600 with 1 Axes>"
      ]
     },
     "metadata": {},
     "output_type": "display_data"
    },
    {
     "name": "stdout",
     "output_type": "stream",
     "text": [
      "\n",
      "================================================================================\n",
      "RESPONSES WITH THEIR SCORES:\n",
      "================================================================================\n",
      "\n",
      "Response 1 (Score: -0.2150)\n",
      "Prompt: 'Write a poem about artificial intelligence'\n",
      "Response: or AI.\n",
      "--------------------------------------------------------------------------------\n",
      "\n",
      "Response 2 (Score: 0.5623)\n",
      "Prompt: 'Write a poem about artificial intelligence'\n",
      "Response: that you write on your iPad or iPhone.\n",
      "The first problem is not with the algorithm, but rather how it works in practice. In theory, an AI could learn what's written and say \"I'm doing this,\" which mig...\n",
      "--------------------------------------------------------------------------------\n",
      "\n",
      "Response 3 (Score: -0.2909)\n",
      "Prompt: 'Explain how a car engine works to a 5-year-old'\n",
      "Response: 's perspective on the road.\n",
      " (Photo: Provided) Story Highlights A 6-foot tall, 3-inch wide red cross with blue lights makes an appearance in several of Los Angeles' most dangerous traffic stops for pe...\n",
      "--------------------------------------------------------------------------------\n",
      "\n",
      "Response 4 (Score: 1.3989)\n",
      "Prompt: 'Explain how a car engine works to a 5-year-old'\n",
      "Response: .\n",
      ", we will take you through the process of building an electronic circuit that can be used as evidence in court or criminal case cases and show it is not just wrong but dangerous!\n",
      "--------------------------------------------------------------------------------\n",
      "\n",
      "SUMMARY:\n",
      "Average Score: 0.3638\n",
      "Highest Score: 1.3989\n",
      "Lowest Score: -0.2909\n",
      "Score Range: 1.6898\n",
      "\n",
      "=== Evaluation Complete ===\n"
     ]
    }
   ],
   "source": [
    "import os\n",
    "import torch\n",
    "import matplotlib.pyplot as plt\n",
    "from transformers import AutoModelForSequenceClassification, AutoTokenizer, AutoModelForCausalLM\n",
    "\n",
    "# Function to generate responses using a separate generation model\n",
    "def generate_responses(prompt, num_responses=3):\n",
    "    \"\"\"Generate responses using a separate text generation model\"\"\"\n",
    "    try:\n",
    "        # Use a lightweight generation model\n",
    "        gen_model_name = \"gpt2\"  # You can also use \"microsoft/DialoGPT-medium\" or others\n",
    "        gen_model = AutoModelForCausalLM.from_pretrained(gen_model_name)\n",
    "        gen_tokenizer = AutoTokenizer.from_pretrained(gen_model_name)\n",
    "        \n",
    "        # Set pad token if not already set\n",
    "        if gen_tokenizer.pad_token is None:\n",
    "            gen_tokenizer.pad_token = gen_tokenizer.eos_token\n",
    "        \n",
    "        responses = []\n",
    "        for i in range(num_responses):\n",
    "            # Encode the prompt\n",
    "            inputs = gen_tokenizer.encode(prompt, return_tensors=\"pt\")\n",
    "            \n",
    "            # Generate response\n",
    "            torch.manual_seed(42 + i)  # Different seed for variety\n",
    "            with torch.no_grad():\n",
    "                outputs = gen_model.generate(\n",
    "                    inputs,\n",
    "                    max_new_tokens=100,\n",
    "                    do_sample=True,\n",
    "                    temperature=0.8,\n",
    "                    top_p=0.9,\n",
    "                    repetition_penalty=1.1,\n",
    "                    num_return_sequences=1,\n",
    "                    pad_token_id=gen_tokenizer.eos_token_id\n",
    "                )\n",
    "            \n",
    "            # Decode the response\n",
    "            response = gen_tokenizer.decode(outputs[0], skip_special_tokens=True)\n",
    "            # Remove the original prompt from the response\n",
    "            response = response[len(prompt):].strip()\n",
    "            responses.append(response)\n",
    "        \n",
    "        return responses\n",
    "    \n",
    "    except Exception as e:\n",
    "        print(f\"Error generating responses: {e}\")\n",
    "        # Fallback to manual responses\n",
    "        return [\n",
    "            f\"This is a sample response to: {prompt}\",\n",
    "            f\"Here's another response about: {prompt}\",\n",
    "            f\"A third perspective on: {prompt}\"\n",
    "        ]\n",
    "\n",
    "# Function to score responses with the reward model\n",
    "def score_responses(prompts, responses, reward_model, tokenizer):\n",
    "    scores = []\n",
    "    for prompt, response in zip(prompts, responses):\n",
    "        # Combine prompt and response for scoring\n",
    "        combined_text = f\"{prompt} {response}\"\n",
    "        inputs = tokenizer(combined_text, return_tensors=\"pt\", truncation=True, max_length=512)\n",
    "        \n",
    "        with torch.no_grad():\n",
    "            output = reward_model(**inputs)\n",
    "            scores.append(output.logits.item())\n",
    "    return scores\n",
    "\n",
    "# Testing the Reward Model\n",
    "print(\"=== Testing Reward Model ===\")\n",
    "\n",
    "# Generate new test responses\n",
    "test_prompts = [\n",
    "    \"Write a poem about artificial intelligence\",\n",
    "    \"Explain how a car engine works to a 5-year-old\"\n",
    "]\n",
    "\n",
    "print(\"Generating test responses...\")\n",
    "test_responses = []\n",
    "for prompt in test_prompts:\n",
    "    print(f\"Generating responses for: {prompt}\")\n",
    "    responses = generate_responses(prompt, num_responses=2)  # Generate 2 responses per prompt\n",
    "    for response in responses:\n",
    "        test_responses.append({\n",
    "            \"prompt\": prompt,\n",
    "            \"answer\": response\n",
    "        })\n",
    "\n",
    "print(f\"Generated {len(test_responses)} test responses\")\n",
    "\n",
    "# Load the saved reward model for evaluation\n",
    "try:\n",
    "    print(\"Loading the saved reward model and tokenizer...\")\n",
    "    reward_model_path = \"reward_model\"\n",
    "    \n",
    "    # Check if model files exist\n",
    "    if os.path.exists(os.path.join(reward_model_path, \"config.json\")):\n",
    "        reward_model = AutoModelForSequenceClassification.from_pretrained(reward_model_path)\n",
    "        reward_tokenizer = AutoTokenizer.from_pretrained(reward_model_path)\n",
    "        print(\"Successfully loaded saved reward model and tokenizer.\")\n",
    "    else:\n",
    "        print(\"Warning: Saved model not found. Please ensure the reward model was trained and saved properly.\")\n",
    "        # Create a dummy model for demonstration\n",
    "        reward_model = AutoModelForSequenceClassification.from_pretrained(\"distilbert-base-uncased\", num_labels=1)\n",
    "        reward_tokenizer = AutoTokenizer.from_pretrained(\"distilbert-base-uncased\")\n",
    "        print(\"Using a fresh DistilBERT model (not trained on your data).\")\n",
    "    \n",
    "    # Extract prompts and answers from test_responses\n",
    "    test_prompts_list = [item[\"prompt\"] for item in test_responses]\n",
    "    test_answers_list = [item[\"answer\"] for item in test_responses]\n",
    "    \n",
    "    print(\"Scoring responses with the reward model...\")\n",
    "    scores = score_responses(test_prompts_list, test_answers_list, reward_model, reward_tokenizer)\n",
    "    \n",
    "    # Plot reward scores\n",
    "    plt.figure(figsize=(12, 6))\n",
    "    bars = plt.bar(range(len(scores)), scores, color=['skyblue', 'lightcoral', 'lightgreen', 'gold'])\n",
    "    plt.title(\"Reward Scores for Generated Responses\")\n",
    "    plt.xlabel(\"Response Index\")\n",
    "    plt.ylabel(\"Reward Score\")\n",
    "    plt.xticks(range(len(scores)), [f\"R{i+1}\" for i in range(len(scores))])\n",
    "    \n",
    "    # Add value labels on bars\n",
    "    for i, (bar, score) in enumerate(zip(bars, scores)):\n",
    "        plt.text(bar.get_x() + bar.get_width()/2, bar.get_height() + 0.01, \n",
    "                f'{score:.3f}', ha='center', va='bottom')\n",
    "    \n",
    "    plt.tight_layout()\n",
    "    plt.savefig(\"reward_evaluation.png\", dpi=150, bbox_inches='tight')\n",
    "    plt.show()\n",
    "    \n",
    "    # Print responses with their scores\n",
    "    print(\"\\n\" + \"=\"*80)\n",
    "    print(\"RESPONSES WITH THEIR SCORES:\")\n",
    "    print(\"=\"*80)\n",
    "    \n",
    "    for i, (prompt, response, score) in enumerate(zip(test_prompts_list, test_answers_list, scores)):\n",
    "        print(f\"\\nResponse {i+1} (Score: {score:.4f})\")\n",
    "        print(f\"Prompt: '{prompt}'\")\n",
    "        print(f\"Response: {response[:200]}{'...' if len(response) > 200 else ''}\")\n",
    "        print(\"-\" * 80)\n",
    "    \n",
    "    # Summary statistics\n",
    "    print(f\"\\nSUMMARY:\")\n",
    "    print(f\"Average Score: {sum(scores)/len(scores):.4f}\")\n",
    "    print(f\"Highest Score: {max(scores):.4f}\")\n",
    "    print(f\"Lowest Score: {min(scores):.4f}\")\n",
    "    print(f\"Score Range: {max(scores) - min(scores):.4f}\")\n",
    "\n",
    "except Exception as e:\n",
    "    print(f\"Error during evaluation: {e}\")\n",
    "    import traceback\n",
    "    traceback.print_exc()\n",
    "\n",
    "print(\"\\n=== Evaluation Complete ===\")"
   ]
  },
  {
   "cell_type": "code",
   "execution_count": 27,
   "metadata": {},
   "outputs": [
    {
     "name": "stdout",
     "output_type": "stream",
     "text": [
      "Example code for loading and using the saved reward model:\n",
      "```python\n",
      "\n",
      "# Import necessary libraries\n",
      "import torch\n",
      "from transformers import AutoModelForSequenceClassification, AutoTokenizer\n",
      "\n",
      "# Load the saved model and tokenizer\n",
      "def load_reward_model(model_path):\n",
      "    model = AutoModelForSequenceClassification.from_pretrained(model_path)\n",
      "    tokenizer = AutoTokenizer.from_pretrained(model_path)\n",
      "    return model, tokenizer\n",
      "\n",
      "# Function to score a response with the reward model\n",
      "def score_response(prompt, response, model, tokenizer):\n",
      "    inputs = tokenizer(prompt, response, return_tensors=\"pt\", truncation=True, max_length=512)\n",
      "    with torch.no_grad():\n",
      "        output = model(**inputs)\n",
      "        score = output.logits.item()\n",
      "    return score\n",
      "\n",
      "# Load the model\n",
      "model_path = \"reward_model\"  # Path to your saved model\n",
      "model, tokenizer = load_reward_model(model_path)\n",
      "\n",
      "# Example usage\n",
      "prompt = \"Explain quantum computing to a 10-year-old child.\"\n",
      "responses = [\n",
      "    \"Quantum computers use weird physics to solve really hard problems super fast!\",\n",
      "    \"Quantum mechanics blah blah technical jargon blah blah.\"\n",
      "]\n",
      "\n",
      "# Score the responses\n",
      "for i, response in enumerate(responses):\n",
      "    score = score_response(prompt, response, model, tokenizer)\n",
      "    print(f\"Response {i+1} score: {score:.4f}\")\n",
      "\n",
      "```\n",
      "\\n✅ This notebook has now:\n",
      "1. Generated responses from a language model\n",
      "2. Added sample rankings (or used your manual rankings)\n",
      "3. Trained a reward model on these rankings\n",
      "4. Saved the model in the 'reward_model/' directory\n",
      "5. Evaluated the model on new responses\n",
      "6. Provided code for reusing the model in other applications\n",
      "\\n✅ The reward model is now ready to use in other applications!\n",
      "You can find it in the 'reward_model/' directory along with usage examples.\n"
     ]
    }
   ],
   "source": [
    "print(\"Example code for loading and using the saved reward model:\")\n",
    "print(\"```python\")\n",
    "print(\"\"\"\n",
    "# Import necessary libraries\n",
    "import torch\n",
    "from transformers import AutoModelForSequenceClassification, AutoTokenizer\n",
    "\n",
    "# Load the saved model and tokenizer\n",
    "def load_reward_model(model_path):\n",
    "    model = AutoModelForSequenceClassification.from_pretrained(model_path)\n",
    "    tokenizer = AutoTokenizer.from_pretrained(model_path)\n",
    "    return model, tokenizer\n",
    "\n",
    "# Function to score a response with the reward model\n",
    "def score_response(prompt, response, model, tokenizer):\n",
    "    inputs = tokenizer(prompt, response, return_tensors=\"pt\", truncation=True, max_length=512)\n",
    "    with torch.no_grad():\n",
    "        output = model(**inputs)\n",
    "        score = output.logits.item()\n",
    "    return score\n",
    "\n",
    "# Load the model\n",
    "model_path = \"reward_model\"  # Path to your saved model\n",
    "model, tokenizer = load_reward_model(model_path)\n",
    "\n",
    "# Example usage\n",
    "prompt = \"Explain quantum computing to a 10-year-old child.\"\n",
    "responses = [\n",
    "    \"Quantum computers use weird physics to solve really hard problems super fast!\",\n",
    "    \"Quantum mechanics blah blah technical jargon blah blah.\"\n",
    "]\n",
    "\n",
    "# Score the responses\n",
    "for i, response in enumerate(responses):\n",
    "    score = score_response(prompt, response, model, tokenizer)\n",
    "    print(f\"Response {i+1} score: {score:.4f}\")\n",
    "\"\"\")\n",
    "print(\"```\")\n",
    "\n",
    "print(\"\\\\n✅ This notebook has now:\")\n",
    "print(\"1. Generated responses from a language model\")\n",
    "print(\"2. Added sample rankings (or used your manual rankings)\")\n",
    "print(\"3. Trained a reward model on these rankings\")\n",
    "print(\"4. Saved the model in the 'reward_model/' directory\")\n",
    "print(\"5. Evaluated the model on new responses\")\n",
    "print(\"6. Provided code for reusing the model in other applications\")\n",
    "\n",
    "print(\"\\\\n✅ The reward model is now ready to use in other applications!\")\n",
    "print(f\"You can find it in the 'reward_model/' directory along with usage examples.\")"
   ]
  }
 ],
 "metadata": {
  "language_info": {
   "name": "python"
  }
 },
 "nbformat": 4,
 "nbformat_minor": 2
}
